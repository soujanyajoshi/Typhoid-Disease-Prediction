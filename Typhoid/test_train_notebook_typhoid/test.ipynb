{
 "cells": [
  {
   "cell_type": "code",
   "execution_count": 1,
   "metadata": {},
   "outputs": [],
   "source": [
    "import joblib\n",
    "import numpy as np"
   ]
  },
  {
   "cell_type": "code",
   "execution_count": 4,
   "metadata": {},
   "outputs": [],
   "source": [
    "model_DT = joblib.load('../models/Typhoid_DT.pkl')\n",
    "model_GB = joblib.load('../models/Typhoid_GB.pkl')\n",
    "model_KNN = joblib.load('../models/Typhoid_KNN.pkl')\n",
    "model_LR = joblib.load('../models/Typhoid_LR.pkl')\n",
    "model_RFC = joblib.load('../models/Typhoid_RF.pkl')\n",
    "model_SVM = joblib.load('../models/Typhoid_SVM.pkl')"
   ]
  },
  {
   "cell_type": "code",
   "execution_count": 5,
   "metadata": {},
   "outputs": [],
   "source": [
    "input_arr = np.array([30,1,1,101,100,60,88,0,1]).reshape(1, -1)"
   ]
  },
  {
   "cell_type": "code",
   "execution_count": 6,
   "metadata": {},
   "outputs": [],
   "source": [
    "def predict(input, model):\n",
    "    return model.predict(input)\n",
    "\n",
    "def predict_proba(input, model):\n",
    "    return model.predict_proba(input)"
   ]
  },
  {
   "cell_type": "code",
   "execution_count": 7,
   "metadata": {},
   "outputs": [
    {
     "name": "stdout",
     "output_type": "stream",
     "text": [
      "[1]\n",
      "[[0. 1.]]\n"
     ]
    }
   ],
   "source": [
    "res_DT = predict(input_arr, model_DT)\n",
    "print(res_DT)\n",
    "\n",
    "res_DT_proba = predict_proba(input_arr, model_DT)\n",
    "print(res_DT_proba)"
   ]
  },
  {
   "cell_type": "code",
   "execution_count": 8,
   "metadata": {},
   "outputs": [
    {
     "name": "stdout",
     "output_type": "stream",
     "text": [
      "[1]\n",
      "[[1.46700481e-05 9.99985330e-01]]\n"
     ]
    }
   ],
   "source": [
    "res_GB = predict(input_arr, model_GB)\n",
    "print(res_GB)\n",
    "\n",
    "res_GB_proba = predict_proba(input_arr, model_GB)\n",
    "print(res_GB_proba)"
   ]
  },
  {
   "cell_type": "code",
   "execution_count": 9,
   "metadata": {},
   "outputs": [
    {
     "name": "stdout",
     "output_type": "stream",
     "text": [
      "[1]\n",
      "[[0.00711479 0.99288521]]\n"
     ]
    }
   ],
   "source": [
    "res_LR = predict(input_arr, model_LR)\n",
    "print(res_LR)\n",
    "\n",
    "res_LR_proba = predict_proba(input_arr, model_LR)\n",
    "print(res_LR_proba)"
   ]
  },
  {
   "cell_type": "code",
   "execution_count": 10,
   "metadata": {},
   "outputs": [
    {
     "name": "stdout",
     "output_type": "stream",
     "text": [
      "[1]\n",
      "[[0. 1.]]\n"
     ]
    }
   ],
   "source": [
    "res_RFC = predict(input_arr, model_RFC)\n",
    "print(res_RFC)\n",
    "\n",
    "res_RFC_proba = predict_proba(input_arr, model_RFC)\n",
    "print(res_RFC_proba)"
   ]
  },
  {
   "cell_type": "code",
   "execution_count": 11,
   "metadata": {},
   "outputs": [
    {
     "name": "stdout",
     "output_type": "stream",
     "text": [
      "[1]\n"
     ]
    }
   ],
   "source": [
    "res_SVM = predict(input_arr, model_SVM)\n",
    "print(res_SVM)\n",
    "\n",
    "#res_SVM_proba = predict_proba(input_arr, model_SVM)\n",
    "#print(res_SVM_proba)"
   ]
  },
  {
   "cell_type": "code",
   "execution_count": 12,
   "metadata": {},
   "outputs": [
    {
     "name": "stdout",
     "output_type": "stream",
     "text": [
      "[array([0., 1.]), array([1.46700481e-05, 9.99985330e-01]), array([0.00711479, 0.99288521]), array([0., 1.])]\n"
     ]
    }
   ],
   "source": [
    "ensemble_result = [res_DT_proba[0], res_GB_proba[0], res_LR_proba[0], res_RFC_proba[0]]\n",
    "print(ensemble_result)"
   ]
  },
  {
   "cell_type": "code",
   "execution_count": 13,
   "metadata": {},
   "outputs": [
    {
     "name": "stdout",
     "output_type": "stream",
     "text": [
      "[0.00178236 0.99821764]\n",
      "Final Prediction - Class 1\n"
     ]
    }
   ],
   "source": [
    "output = np.mean(ensemble_result, axis = 0)\n",
    "print(output)\n",
    "\n",
    "print('Final Prediction - Class {}'.format(output.argmax()))"
   ]
  },
  {
   "cell_type": "code",
   "execution_count": null,
   "metadata": {},
   "outputs": [],
   "source": []
  }
 ],
 "metadata": {
  "kernelspec": {
   "display_name": "Python 3",
   "language": "python",
   "name": "python3"
  },
  "language_info": {
   "codemirror_mode": {
    "name": "ipython",
    "version": 3
   },
   "file_extension": ".py",
   "mimetype": "text/x-python",
   "name": "python",
   "nbconvert_exporter": "python",
   "pygments_lexer": "ipython3",
   "version": "3.7.3"
  }
 },
 "nbformat": 4,
 "nbformat_minor": 2
}
